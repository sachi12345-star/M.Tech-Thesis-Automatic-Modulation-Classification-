{
  "cells": [
    {
      "cell_type": "code",
      "execution_count": null,
      "metadata": {
        "id": "oee5yhcdFBfl"
      },
      "outputs": [],
      "source": [
        "from google.colab import drive\n",
        "drive.mount('/content/drive')"
      ]
    },
    {
      "cell_type": "code",
      "execution_count": null,
      "metadata": {
        "id": "mTxHTs95FM-B"
      },
      "outputs": [],
      "source": [
        "base_folder = \"/content/drive/MyDrive/-8.0_new\""
      ]
    },
    {
      "cell_type": "code",
      "execution_count": null,
      "metadata": {
        "id": "GrQy6s2dEzM3"
      },
      "outputs": [],
      "source": [
        "import os\n",
        "import pandas as pd\n",
        "from sklearn.model_selection import train_test_split\n",
        "from sklearn.preprocessing import LabelEncoder, StandardScaler\n",
        "from tensorflow.keras.models import Sequential\n",
        "from tensorflow.keras.layers import LSTM, Dense, Dropout\n",
        "from tensorflow.keras.utils import to_categorical\n",
        "from sklearn.metrics import accuracy_score\n",
        "import numpy as np\n",
        "\n",
        "# Specify the base directory containing class folders\n",
        "\n",
        "\n",
        "# Initialize lists to store DataFrames\n",
        "dfs = []\n",
        "labels = []\n",
        "\n",
        "# Iterate through each folder (each representing a class)\n",
        "for class_folder in os.listdir(base_folder):\n",
        "    class_folder_path = os.path.join(base_folder, class_folder)\n",
        "\n",
        "    # Check if it's a directory\n",
        "    if os.path.isdir(class_folder_path):\n",
        "        # Assume each folder has exactly one CSV file\n",
        "        csv_file = os.path.join(class_folder_path, os.listdir(class_folder_path)[0])\n",
        "\n",
        "        # Read the CSV file\n",
        "        try:\n",
        "            df = pd.read_csv(csv_file)\n",
        "\n",
        "            # Extract folder name as label\n",
        "            label = class_folder\n",
        "\n",
        "            # Add label column to DataFrame\n",
        "            df['label'] = label\n",
        "\n",
        "            # Append DataFrame to list\n",
        "            dfs.append(df)\n",
        "            labels.append(label)\n",
        "\n",
        "        except Exception as e:\n",
        "            print(f\"Error reading file '{csv_file}': {e}\")\n",
        "\n",
        "# Concatenate all DataFrames into a single DataFrame\n",
        "combined_df = pd.concat(dfs, ignore_index=True)\n",
        "\n",
        "# Check the combined DataFrame\n",
        "print(\"Combined DataFrame shape:\", combined_df.shape)\n",
        "feature_cols = ['15', '16', '36', '37', '255', '523', '561', '694', '708', '794']\n",
        "# Separate features (X) and labels (y)\n",
        "X = combined_df[feature_cols]\n",
        "y = combined_df['label']\n",
        "\n",
        "\n"
      ]
    },
    {
      "cell_type": "code",
      "execution_count": null,
      "metadata": {
        "id": "55YYtf0kPu8d"
      },
      "outputs": [],
      "source": [
        "from tensorflow.keras.optimizers import Adam\n",
        "from tensorflow.keras.callbacks import EarlyStopping\n",
        "# Encode labels as categorical (required for LSTM)\n",
        "label_encoder = LabelEncoder()\n",
        "y = label_encoder.fit_transform(y)\n",
        "num_classes = len(label_encoder.classes_)\n",
        "\n",
        "# Normalize data (assuming features are numerical)\n",
        "scaler = StandardScaler()\n",
        "X = scaler.fit_transform(X)\n",
        "\n",
        "# Reshape data for LSTM input: (samples, time steps, features)\n",
        "# Assuming 10 time steps (adjust based on your data characteristics)\n",
        "time_steps = 30  # Adjust as per your data\n",
        "num_features = X.shape[1]\n",
        "\n",
        "def reshape_data_for_lstm(X, y, time_steps):\n",
        "    X_lstm = []\n",
        "    y_lstm = []\n",
        "    for i in range(len(X) - time_steps + 1):\n",
        "        X_lstm.append(X[i:i + time_steps])\n",
        "        y_lstm.append(y[i + time_steps - 1])\n",
        "    return np.array(X_lstm), np.array(y_lstm)\n",
        "\n",
        "# Reshape data for LSTM input\n",
        "X_lstm, y_lstm = reshape_data_for_lstm(X, y, time_steps)\n",
        "\n",
        "# Split data into training and testing sets\n",
        "X_train, X_test, y_train, y_test = train_test_split(X_lstm, y_lstm, test_size=0.2, random_state=42)\n",
        "\n",
        "# Define LSTM model\n",
        "model = Sequential([\n",
        "    LSTM(64, input_shape=(time_steps, num_features)),\n",
        "    Dense(num_classes, activation='softmax')  # Output layer with softmax activation\n",
        "])\n",
        "\n",
        "# Compile the model\n",
        "\n",
        "model.compile(optimizer='Adam',\n",
        "              loss='sparse_categorical_crossentropy',\n",
        "              metrics=['accuracy'])\n",
        "\n",
        "# Print model summary\n",
        "model.summary()\n",
        "\n",
        "# Define early stopping callback\n",
        "early_stopping = EarlyStopping(monitor='val_loss', patience=5, min_delta=0.001)\n",
        "\n",
        "# Train the model with early stopping\n",
        "train_history=model.fit(X_train, y_train, epochs=20, batch_size=32, validation_split=0.3,\n",
        "          verbose=1, callbacks=[early_stopping])\n",
        "\n",
        "# Evaluate the model\n",
        "loss, accuracy = model.evaluate(X_test, y_test, verbose=0)\n",
        "print(f\"Test Accuracy: {accuracy:.2f}\")\n",
        "\n",
        "# Optional: Predict using the trained model\n",
        "# y_pred = model.predict(X_test)\n",
        "# Convert predictions back to labels if needed\n",
        "# y_pred_labels = label_encoder.inverse_transform(np.argmax(y_pred, axis=1))"
      ]
    },
    {
      "cell_type": "code",
      "source": [
        "import matplotlib.pyplot as plt\n",
        "\n",
        "train_loss = train_history.history['loss']\n",
        "train_accuracy = train_history.history['accuracy']\n",
        "val_loss = train_history.history['val_loss']\n",
        "val_accuracy = train_history.history['val_accuracy']\n",
        "# Plot training and validation loss\n",
        "plt.plot(train_loss, label='Training Loss')\n",
        "plt.plot(val_loss, label='Validation Loss')\n",
        "plt.xlabel('Epochs')\n",
        "plt.ylabel('Loss')\n",
        "plt.title(\"SNR 0\")\n",
        "plt.legend()\n",
        "plt.show()"
      ],
      "metadata": {
        "id": "1DjOwJBfXK4p"
      },
      "execution_count": null,
      "outputs": []
    },
    {
      "cell_type": "code",
      "execution_count": null,
      "metadata": {
        "id": "sBvXi0oZEHno"
      },
      "outputs": [],
      "source": [
        "from sklearn.metrics import accuracy_score, classification_report, confusion_matrix\n",
        "\n",
        "# Evaluate the model\n",
        "y_pred = model.predict(X_test)\n",
        "y_pred_class = np.argmax(y_pred, axis=1)\n",
        "\n",
        "# Accuracy\n",
        "accuracy = accuracy_score(y_test, y_pred_class)\n",
        "print(f\"Test Accuracy: {accuracy:.2f}\")\n",
        "\n",
        "# Classification Report\n",
        "print(\"Classification Report:\")\n",
        "print(classification_report(y_test, y_pred_class))\n",
        "\n",
        "# Confusion Matrix\n",
        "print(\"Confusion Matrix:\")\n",
        "print(confusion_matrix(y_test, y_pred_class))\n",
        "\n",
        "# Precision, Recall, F1-score\n",
        "from sklearn.metrics import precision_score, recall_score, f1_score\n",
        "\n",
        "precision = precision_score(y_test, y_pred_class, average='weighted')\n",
        "recall = recall_score(y_test, y_pred_class, average='weighted')\n",
        "f1 = f1_score(y_test, y_pred_class, average='weighted')\n",
        "\n",
        "print(f\"Test Precision: {precision:.2f}\")\n",
        "print(f\"Test Recall: {recall:.2f}\")\n",
        "print(f\"Test F1-score: {f1:.2f}\")"
      ]
    }
  ],
  "metadata": {
    "colab": {
      "provenance": []
    },
    "kernelspec": {
      "display_name": "Python 3",
      "name": "python3"
    },
    "language_info": {
      "name": "python"
    }
  },
  "nbformat": 4,
  "nbformat_minor": 0
}